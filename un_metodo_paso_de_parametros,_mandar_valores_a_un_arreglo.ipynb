{
  "nbformat": 4,
  "nbformat_minor": 0,
  "metadata": {
    "colab": {
      "name": "un metodo paso de parametros, mandar valores a un arreglo",
      "provenance": [],
      "collapsed_sections": [],
      "authorship_tag": "ABX9TyNgzTjicJRbEm4EfC8L6MbS",
      "include_colab_link": true
    },
    "kernelspec": {
      "name": "python3",
      "display_name": "Python 3"
    },
    "language_info": {
      "name": "python"
    }
  },
  "cells": [
    {
      "cell_type": "markdown",
      "metadata": {
        "id": "view-in-github",
        "colab_type": "text"
      },
      "source": [
        "<a href=\"https://colab.research.google.com/github/JoseAntonioAnayaValdez/Programas-Est.-de-datos/blob/main/un_metodo_paso_de_parametros%2C_mandar_valores_a_un_arreglo.ipynb\" target=\"_parent\"><img src=\"https://colab.research.google.com/assets/colab-badge.svg\" alt=\"Open In Colab\"/></a>"
      ]
    },
    {
      "cell_type": "markdown",
      "source": [
        "un metodo paso de parametros, mandar valores a un arreglo  por Jose Antonio Anaya Valdez"
      ],
      "metadata": {
        "id": "H7-tnWKKtiby"
      }
    },
    {
      "cell_type": "code",
      "execution_count": null,
      "metadata": {
        "colab": {
          "base_uri": "https://localhost:8080/"
        },
        "id": "mFJso3tPtSFU",
        "outputId": "7077ce64-11ea-4248-fb35-05cf0561b2d7"
      },
      "outputs": [
        {
          "output_type": "stream",
          "name": "stdout",
          "text": [
            "[4, 'dias', 5, 'perro']\n"
          ]
        }
      ],
      "source": [
        "class arreglo:\n",
        "    def entrada(self):\n",
        "        self.lista=[]\n",
        "        self.lista.append(4)\n",
        "        self.lista.append(\"dias\")\n",
        "        self.lista.append(5)\n",
        "        self.lista.append(\"perro\")\n",
        "        print(self.lista)\n",
        "obj=arreglo()\n",
        "obj.entrada()\n"
      ]
    }
  ]
}