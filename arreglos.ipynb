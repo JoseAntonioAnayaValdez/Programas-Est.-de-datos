{
  "nbformat": 4,
  "nbformat_minor": 0,
  "metadata": {
    "colab": {
      "provenance": [],
      "collapsed_sections": [],
      "authorship_tag": "ABX9TyO96C9zhDFkT7ec2zg72pM0",
      "include_colab_link": true
    },
    "kernelspec": {
      "name": "python3",
      "display_name": "Python 3"
    },
    "language_info": {
      "name": "python"
    }
  },
  "cells": [
    {
      "cell_type": "markdown",
      "metadata": {
        "id": "view-in-github",
        "colab_type": "text"
      },
      "source": [
        "<a href=\"https://colab.research.google.com/github/JoseAntonioAnayaValdez/Programas-Est.-de-datos/blob/main/arreglos.ipynb\" target=\"_parent\"><img src=\"https://colab.research.google.com/assets/colab-badge.svg\" alt=\"Open In Colab\"/></a>"
      ]
    },
    {
      "cell_type": "code",
      "execution_count": null,
      "metadata": {
        "id": "1LcyW68y4NPr"
      },
      "outputs": [],
      "source": [
        "factura=[\"pan\",\"carne\",100,1234]\n",
        "##print(factura[-3])\n",
        "try:\n",
        "    print(factura[-5])\n",
        "except:\n",
        "    print(\"saliste de la lista\")"
      ]
    },
    {
      "cell_type": "code",
      "source": [
        "class arreglo:\n",
        "    def entrada(self):\n",
        "        self.lista=[]\n",
        "        self.lista.append(5)\n",
        "        self.lista.append(\"dias\")\n",
        "        self.lista.append(5)\n",
        "        self.lista.append(\"perro\")\n",
        "        print(self.lista)\n",
        "obj=arreglo()\n",
        "obj.entrada()"
      ],
      "metadata": {
        "id": "hSPytt1R4OlS"
      },
      "execution_count": null,
      "outputs": []
    },
    {
      "cell_type": "code",
      "source": [],
      "metadata": {
        "id": "WHAfz42O4Tco"
      },
      "execution_count": null,
      "outputs": []
    }
  ]
}