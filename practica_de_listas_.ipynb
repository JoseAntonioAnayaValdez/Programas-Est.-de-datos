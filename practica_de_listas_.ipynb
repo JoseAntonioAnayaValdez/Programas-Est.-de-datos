{
  "nbformat": 4,
  "nbformat_minor": 0,
  "metadata": {
    "colab": {
      "provenance": [],
      "authorship_tag": "ABX9TyO4VSizPwDGx71zD3tbKmDt",
      "include_colab_link": true
    },
    "kernelspec": {
      "name": "python3",
      "display_name": "Python 3"
    },
    "language_info": {
      "name": "python"
    }
  },
  "cells": [
    {
      "cell_type": "markdown",
      "metadata": {
        "id": "view-in-github",
        "colab_type": "text"
      },
      "source": [
        "<a href=\"https://colab.research.google.com/github/JoseAntonioAnayaValdez/Programas-Est.-de-datos/blob/main/practica_de_listas_.ipynb\" target=\"_parent\"><img src=\"https://colab.research.google.com/assets/colab-badge.svg\" alt=\"Open In Colab\"/></a>"
      ]
    },
    {
      "cell_type": "code",
      "execution_count": null,
      "metadata": {
        "id": "BRr1JPIg3fm3"
      },
      "outputs": [],
      "source": [
        "op=0\n",
        "lista=[\"villedin\",\"moyflas\",\"yomerengues\"]\n",
        "print(\"opcion 1 impresion de lsitas \")\n",
        "print(\"opcion 2 insertar valor (al fin de la lista ) \")\n",
        "print(\"opcion 3 eliminar ultimo valor \")\n",
        "print(\"opcion 4 insertar valor indicando en la lista  \")\n",
        "print(\"opcion 5 ordenar de A a Z \")\n",
        "print(\"opcion 6 ordenar de Z a A\")\n",
        "print(\"opcion 7 buscar en la lista y remover el primero \")\n",
        "print(\"opcion 8 insertar un valor negativo e imprimir el registro correspondiente \")\n",
        "print(\"opcion 9 salir \")\n",
        "def menu(op):\n",
        "    while op!=9:\n",
        "        op=int(input(\"elige una opcion: \"))\n",
        "        if op ==1:\n",
        "            impresion()\n",
        "        elif op==2:\n",
        "            insertar()\n",
        "        elif op==3:\n",
        "            eliminarU()\n",
        "        elif op==4:\n",
        "            insertarI()\n",
        "        elif op ==5:\n",
        "            ordenar()\n",
        "        elif op ==6:\n",
        "            ordenarm()\n",
        "        elif op== 7:\n",
        "            remover()\n",
        "        elif op==8:\n",
        "            negativo()\n",
        "        else:\n",
        "            print(\"adios\")\n",
        "\n",
        "def impresion():\n",
        "    print(lista)\n",
        "def insertar():\n",
        "    lista.append(input(\"ingresa un nombre: \"))\n",
        "    print(lista)\n",
        "def eliminarU():\n",
        "    try:\n",
        "        lista.pop()\n",
        "        print(lista)\n",
        "    except:\n",
        "        print(\"no hay mas nombres en la lista\")\n",
        "def insertarI():\n",
        "    b=int(input(\"ingresa la posicion: \"))\n",
        "    n=str(input(\"ingresa el nombre: \"))\n",
        "    lista.insert(b,n)\n",
        "    print(lista)\n",
        "def ordenar():\n",
        "    lista.sort()\n",
        "    print(lista)\n",
        "def ordenarm():\n",
        "    lista.sort(reverse=True)\n",
        "    print(lista)\n",
        "def remover():\n",
        "    x=str(input(\"que nombre deseas remover\"))\n",
        "    lista.remove(x)\n",
        "    print(lista)\n",
        "def negativo():\n",
        "    try:\n",
        "        a=int(input(\"inserta un valor negativo\"))\n",
        "        print(lista[a])\n",
        "    except:\n",
        "        print(\"no existe\")\n",
        "\n",
        "menu(op)"
      ]
    }
  ]
}