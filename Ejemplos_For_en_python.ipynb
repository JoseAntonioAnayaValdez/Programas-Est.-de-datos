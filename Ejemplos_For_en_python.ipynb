{
  "cells": [
    {
      "cell_type": "markdown",
      "metadata": {
        "id": "view-in-github",
        "colab_type": "text"
      },
      "source": [
        "<a href=\"https://colab.research.google.com/github/JoseAntonioAnayaValdez/Programas-Est.-de-datos/blob/main/Ejemplos_For_en_python.ipynb\" target=\"_parent\"><img src=\"https://colab.research.google.com/assets/colab-badge.svg\" alt=\"Open In Colab\"/></a>"
      ]
    },
    {
      "cell_type": "markdown",
      "source": [
        "# ** Un bucle for establece la variable iteradora en cada valor de una lista, arreglo o cadena proporcionada y repite el código en el cuerpo del bucle for para cada valor de la variable iteradora.**(JOSE ANTONIO ANAYA VALDEZ, ERNESTO FERNANDO LOPEZ SANCHES)"
      ],
      "metadata": {
        "id": "XT2-eocIIVYy"
      }
    },
    {
      "cell_type": "markdown",
      "source": [
        "Ejemplos de for leyendo numeros e imprimiendo hasta un alto"
      ],
      "metadata": {
        "id": "lAkXpGnLDcx4"
      }
    },
    {
      "cell_type": "code",
      "source": [
        "coleccion = [2, 4, 5, 7, 8, 9, 3, 4]\n",
        "for e in coleccion:\n",
        "    if e == 7:\n",
        "        break\n",
        "    print(e)"
      ],
      "metadata": {
        "colab": {
          "base_uri": "https://localhost:8080/"
        },
        "id": "B0u3fG0UBVrv",
        "outputId": "5b2b2530-d725-4c3f-b782-4b55e35d6f74"
      },
      "execution_count": null,
      "outputs": [
        {
          "output_type": "stream",
          "name": "stdout",
          "text": [
            "2\n",
            "4\n",
            "5\n"
          ]
        }
      ]
    },
    {
      "cell_type": "markdown",
      "source": [
        "Ejemplo de for con rango"
      ],
      "metadata": {
        "id": "04sDhzGvDx8T"
      }
    },
    {
      "cell_type": "code",
      "source": [
        "for i in range(5):\n",
        "    print(i, end=\", \")"
      ],
      "metadata": {
        "colab": {
          "base_uri": "https://localhost:8080/"
        },
        "id": "Xa2v9mdy-yRn",
        "outputId": "761c232c-a27a-4b4d-854f-1b9f05d45ecf"
      },
      "execution_count": null,
      "outputs": [
        {
          "output_type": "stream",
          "name": "stdout",
          "text": [
            "0, 1, 2, 3, 4, "
          ]
        }
      ]
    },
    {
      "cell_type": "markdown",
      "source": [
        "Ejemplo for numeros pares "
      ],
      "metadata": {
        "id": "Tk1jv7KkGWNo"
      }
    },
    {
      "cell_type": "code",
      "source": [
        "coleccion = [2, 4, 5, 7, 8, 9, 3, 4]\n",
        "for e in coleccion:\n",
        "    if e % 2 != 0:\n",
        "        continue\n",
        "    print(e)"
      ],
      "metadata": {
        "colab": {
          "base_uri": "https://localhost:8080/"
        },
        "id": "zSSkAg2XC15Y",
        "outputId": "252a312f-5162-45a6-de0b-d4eb9b4ae09b"
      },
      "execution_count": null,
      "outputs": [
        {
          "output_type": "stream",
          "name": "stdout",
          "text": [
            "2\n",
            "4\n",
            "8\n",
            "4\n"
          ]
        }
      ]
    },
    {
      "cell_type": "markdown",
      "source": [
        "Ejemplo for en un arreglo sacando letras"
      ],
      "metadata": {
        "id": "6taWmX6bGxPf"
      }
    },
    {
      "cell_type": "code",
      "source": [
        "valores = {'A': 4, 'E': 3, 'I': 1, 'O': 0}\n",
        "for k in valores:\n",
        "    print(k)"
      ],
      "metadata": {
        "colab": {
          "base_uri": "https://localhost:8080/"
        },
        "id": "aIqYsLXRGeNc",
        "outputId": "198daa59-d57e-440d-9008-1073aa252378"
      },
      "execution_count": null,
      "outputs": [
        {
          "output_type": "stream",
          "name": "stdout",
          "text": [
            "A\n",
            "E\n",
            "I\n",
            "O\n"
          ]
        }
      ]
    },
    {
      "cell_type": "markdown",
      "source": [
        "Ejemplo for en un areglo sacando numeros "
      ],
      "metadata": {
        "id": "KOMkWLd4G6YR"
      }
    },
    {
      "cell_type": "code",
      "source": [
        "valores = {'A': 4, 'E': 3, 'I': 1, 'O': 0}\n",
        "for v in valores.values():\n",
        "    print(v)"
      ],
      "metadata": {
        "colab": {
          "base_uri": "https://localhost:8080/"
        },
        "id": "iYRNzbFcGuDN",
        "outputId": "43d4d5e0-8637-4420-d252-1355f07a358b"
      },
      "execution_count": null,
      "outputs": [
        {
          "output_type": "stream",
          "name": "stdout",
          "text": [
            "4\n",
            "3\n",
            "1\n",
            "0\n"
          ]
        }
      ]
    },
    {
      "cell_type": "markdown",
      "source": [
        "Ejemplo for en lista "
      ],
      "metadata": {
        "id": "bv6Nn14qJPqK"
      }
    },
    {
      "cell_type": "code",
      "source": [
        "lista =[(1,2),(9,8)]\n",
        "for a,b in lista:\n",
        "  print(\"a :\",a , \"b :\",b)"
      ],
      "metadata": {
        "colab": {
          "base_uri": "https://localhost:8080/"
        },
        "id": "2xso_CqOIwaV",
        "outputId": "7d7a32d9-908c-4f87-d92f-416560910663"
      },
      "execution_count": null,
      "outputs": [
        {
          "output_type": "stream",
          "name": "stdout",
          "text": [
            "a : 1 b : 2\n",
            "a : 9 b : 8\n"
          ]
        }
      ]
    }
  ],
  "metadata": {
    "colab": {
      "collapsed_sections": [],
      "name": "Ejemplos For en python ",
      "toc_visible": true,
      "provenance": [],
      "include_colab_link": true
    },
    "kernelspec": {
      "display_name": "Python 3",
      "name": "python3"
    }
  },
  "nbformat": 4,
  "nbformat_minor": 0
}