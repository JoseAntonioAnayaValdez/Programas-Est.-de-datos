{
  "nbformat": 4,
  "nbformat_minor": 0,
  "metadata": {
    "colab": {
      "provenance": [],
      "collapsed_sections": [],
      "authorship_tag": "ABX9TyN0LuB8Y4CaQlg/d3ehpzhN",
      "include_colab_link": true
    },
    "kernelspec": {
      "name": "python3",
      "display_name": "Python 3"
    },
    "language_info": {
      "name": "python"
    }
  },
  "cells": [
    {
      "cell_type": "markdown",
      "metadata": {
        "id": "view-in-github",
        "colab_type": "text"
      },
      "source": [
        "<a href=\"https://colab.research.google.com/github/JoseAntonioAnayaValdez/Programas-Est.-de-datos/blob/main/colas.ipynb\" target=\"_parent\"><img src=\"https://colab.research.google.com/assets/colab-badge.svg\" alt=\"Open In Colab\"/></a>"
      ]
    },
    {
      "cell_type": "code",
      "execution_count": null,
      "metadata": {
        "id": "Jct7VLz14o5m"
      },
      "outputs": [],
      "source": [
        "class Cola:\n",
        "    def _init_(self):\n",
        "        self.items = []\n",
        "        self.op = 0 \n",
        "\n",
        "    def encolar(self):\n",
        "      self.items.append(input(\"Ingresa un elemento  \"))\n",
        "      print(self.items)\n",
        "\n",
        "    def desencolar(self):\n",
        "        try:\n",
        "            self.items.pop(0)\n",
        "            print(self.items)\n",
        "        except:\n",
        "            print(\"La cola esta vacia\")\n",
        "\n",
        "    def es_vacia(self):\n",
        "        if self.items == []:\n",
        "          print(\"La cola esta vacia\")\n",
        "    def menu (self):\n",
        "      while self.op != 4:\n",
        "        print(\"Opcion 1: Agregar elemento al final\")\n",
        "        print(\"Opcion 2: Eliminar primer elemento\")\n",
        "        print(\"Opcion 3: Revisar si esta vacia la cola\")\n",
        "        self.op= int(input(\"Elija una opcion\"))\n",
        "        if self.op == 1:\n",
        "          obj.encolar()\n",
        "        elif self.op ==2:\n",
        "          obj.desencolar()\n",
        "        elif self.op == 3:\n",
        "          obj.es_vacia()\n",
        "        else:\n",
        "          print(\"Opcion incorrecta\")\n",
        "      print(\"ADIOS\")\n",
        "\n",
        "obj= Cola()\n",
        "obj.menu()"
      ]
    }
  ]
}