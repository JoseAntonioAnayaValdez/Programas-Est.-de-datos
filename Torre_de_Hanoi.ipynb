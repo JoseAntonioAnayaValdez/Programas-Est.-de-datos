{
  "nbformat": 4,
  "nbformat_minor": 0,
  "metadata": {
    "colab": {
      "provenance": [],
      "authorship_tag": "ABX9TyONjIQFgjLndBNnY031Et6f",
      "include_colab_link": true
    },
    "kernelspec": {
      "name": "python3",
      "display_name": "Python 3"
    },
    "language_info": {
      "name": "python"
    }
  },
  "cells": [
    {
      "cell_type": "markdown",
      "metadata": {
        "id": "view-in-github",
        "colab_type": "text"
      },
      "source": [
        "<a href=\"https://colab.research.google.com/github/JoseAntonioAnayaValdez/Programas-Est.-de-datos/blob/main/Torre_de_Hanoi.ipynb\" target=\"_parent\"><img src=\"https://colab.research.google.com/assets/colab-badge.svg\" alt=\"Open In Colab\"/></a>"
      ]
    },
    {
      "cell_type": "code",
      "execution_count": null,
      "metadata": {
        "id": "N6MFsc4w2roT"
      },
      "outputs": [],
      "source": [
        "def hanoi(n,A,C,B):\n",
        "    if n==1:\n",
        "        print(A+\"-\"+B)\n",
        "    else:\n",
        "        hanoi(n-1,A,B,C)\n",
        "        print(A+\"-\"+C)\n",
        "        hanoi(n-1,C,B,A)"
      ]
    }
  ]
}