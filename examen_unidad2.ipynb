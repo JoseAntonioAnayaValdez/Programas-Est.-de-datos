{
  "nbformat": 4,
  "nbformat_minor": 0,
  "metadata": {
    "colab": {
      "provenance": [],
      "authorship_tag": "ABX9TyOREdYkGZrUKBm8Unn/6/uR",
      "include_colab_link": true
    },
    "kernelspec": {
      "name": "python3",
      "display_name": "Python 3"
    },
    "language_info": {
      "name": "python"
    }
  },
  "cells": [
    {
      "cell_type": "markdown",
      "metadata": {
        "id": "view-in-github",
        "colab_type": "text"
      },
      "source": [
        "<a href=\"https://colab.research.google.com/github/JoseAntonioAnayaValdez/Programas-Est.-de-datos/blob/main/examen_unidad2.ipynb\" target=\"_parent\"><img src=\"https://colab.research.google.com/assets/colab-badge.svg\" alt=\"Open In Colab\"/></a>"
      ]
    },
    {
      "cell_type": "code",
      "execution_count": null,
      "metadata": {
        "colab": {
          "base_uri": "https://localhost:8080/"
        },
        "id": "5uisfUTIg9_m",
        "outputId": "65760b89-51ff-47fe-f930-ccce00e1f724"
      },
      "outputs": [
        {
          "output_type": "stream",
          "name": "stdout",
          "text": [
            "opcion 1 entregar lonche \n",
            "opcion 2 captura comida \n",
            "opcion 3 captura bebidas \n",
            "opcion 4 captura postre \n",
            "elige una opcion : 1\n",
            "ingresa tu nombrejuan\n",
            "no hay comida disponoble\n",
            "no hay bebidas disponibles\n",
            "no hay postre disponible \n",
            "[['juan']]\n",
            "elige una opcion : 2\n",
            "ingresa la comida disponible: torta\n",
            "['torta']\n",
            "elige una opcion : 3\n",
            "ingresa la bebida disponible: agua\n",
            "['agua']\n",
            "elige una opcion : 4\n",
            "ingresa el postre disponible: flan\n",
            "['flan']\n",
            "elige una opcion : 1\n",
            "ingresa tu nombrepedro\n",
            "[['juan'], ['torta', 'agua', 'flan', 'pedro']]\n"
          ]
        }
      ],
      "source": [
        "op=0\n",
        "print(\"opcion 1 entregar lonche \")\n",
        "print(\"opcion 2 captura comida \")\n",
        "print(\"opcion 3 captura bebidas \")\n",
        "print(\"opcion 4 captura postre \")\n",
        "comida=[]\n",
        "bebida=[]\n",
        "postre=[]\n",
        "comensales=[]\n",
        "entregas=[]\n",
        "x=[]\n",
        "def menu(op):\n",
        "  while op != 8:\n",
        "    op=int(input(\"elige una opcion : \"))\n",
        "    x=[]\n",
        "    if op ==1:\n",
        "      entregarL(x,entregas)\n",
        "    elif op ==2:\n",
        "        capturarC(comida)\n",
        "    elif op== 3:\n",
        "        capturarB(bebida)\n",
        "    elif op ==4:\n",
        "        capturarP(postre)\n",
        "    else:\n",
        "        print(\"adios\")\n",
        "def entregarL(x,entregas):\n",
        "    comensales.append(input(\"ingresa tu nombre\") )\n",
        "    try:\n",
        "        x.append(comida.pop(0))\n",
        "    except:\n",
        "        print(\"no hay comida disponoble\")\n",
        "    try:\n",
        "        x.append(bebida.pop())\n",
        "    except:\n",
        "        print(\"no hay bebidas disponibles\")\n",
        "    try:\n",
        "        x.append(postre.pop())\n",
        "    except:\n",
        "        print(\"no hay postre disponible \")\n",
        "    x.append(comensales[-1])\n",
        "    entregas.append(x)\n",
        "    print(entregas)\n",
        "def capturarC(comida):\n",
        "    if len(comida) <= 4:\n",
        "        comida.append(input(\"ingresa la comida disponible: \"))\n",
        "        print (comida)\n",
        "    else:\n",
        "        print(\"ya no se pueden incluir comidas\")\n",
        "def capturarB(bebida):\n",
        "    if len(bebida) <= 4:\n",
        "        bebida.append(input(\"ingresa la bebida disponible: \"))\n",
        "        print(bebida)\n",
        "    else:\n",
        "        print(\"ya no se pueden incluir bebidas \")\n",
        "def capturarP(postre):\n",
        "    if len(postre) <= 4:\n",
        "        postre.append(input(\"ingresa el postre disponible: \"))\n",
        "        print(postre)\n",
        "    else:\n",
        "      print(\"ya no se pueden incluir postres\")\n",
        "menu(op1)"
      ]
    }
  ]
}